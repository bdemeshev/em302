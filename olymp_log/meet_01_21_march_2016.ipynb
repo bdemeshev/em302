{
 "cells": [
  {
   "cell_type": "markdown",
   "metadata": {},
   "source": [
    "## Вариант 2015\n",
    "\n",
    "### Задача 1\n",
    "\n",
    "Линеаризуем:\n",
    "\n",
    "$$\n",
    "x_i/y_i = \\theta_0 + \\theta_1 x_i + u_i\n",
    "$$\n",
    "\n",
    "Боремся с гетероскедастичностью:\n",
    "$$\n",
    "1/y_i = \\theta_0 (1/x_i) + \\theta_1 + \\nu_i\n",
    "$$\n",
    "\n",
    "Применяем обычные формулы для $\\theta_0$ и $\\theta_1$"
   ]
  },
  {
   "cell_type": "markdown",
   "metadata": {},
   "source": [
    "### Задача 2\n",
    "\n",
    "#### 1\n",
    "\n",
    "Занумеруем Ваню под номером один.\n",
    "\n",
    "Замечаем, что $\\hat\\theta_1$ входит только в первое слагаемое при минимизации $RSS$:\n",
    "\n",
    "$$\n",
    "RSS=(y_1 - \\hat\\theta_0 - \\hat\\theta_1 - \\hat\\theta_2 w_1)^2 + \n",
    "(y_2 - \\hat\\theta_0  - \\hat\\theta_2 w_2)^2 +\n",
    "(y_3 - \\hat\\theta_0  - \\hat\\theta_2 w_3)^2 +\n",
    "\\ldots\n",
    "$$\n",
    "\n",
    "Отсюда, $\\hat u_1 = 0$, и\n",
    "\n",
    "$$\n",
    "\\hat\\theta_1 = y_1 - \\hat\\theta_0 - \\hat\\theta_2 w_1\n",
    "$$"
   ]
  },
  {
   "cell_type": "markdown",
   "metadata": {},
   "source": [
    "Находим $\\hat\\theta_0$ и $\\hat\\theta_2$ для парной регрессии по всем наблюдениям кроме Ваньки."
   ]
  },
  {
   "cell_type": "markdown",
   "metadata": {},
   "source": [
    "Тестирование гипотезы: как быстрее???"
   ]
  },
  {
   "cell_type": "markdown",
   "metadata": {},
   "source": [
    "Способ через VIF:\n",
    "$$\n",
    "se^2(\\hat\\theta_1) = VIF_x \\cdot \\frac{RSS/(n-k)}{TSS_x} = \\frac{\\hat\\sigma^2}{RSS_x}\n",
    "$$"
   ]
  },
  {
   "cell_type": "markdown",
   "metadata": {},
   "source": [
    "Способ через $RSS_R$ и $RSS_{UR}$:\n",
    "\n",
    "как быстро найти $\\sum y_i^2$?"
   ]
  },
  {
   "cell_type": "markdown",
   "metadata": {},
   "source": [
    "$$\n",
    "W'x = \n",
    "\\begin{pmatrix}\n",
    "\\sum x_i \\\\\n",
    "\\sum w_i x_i\n",
    "\\end{pmatrix}\n",
    "=\n",
    "\\begin{pmatrix}\n",
    "1 \\\\\n",
    "2\n",
    "\\end{pmatrix}\n",
    "$$"
   ]
  },
  {
   "cell_type": "markdown",
   "metadata": {},
   "source": [
    "$$\n",
    "W'W = \n",
    "\\begin{pmatrix}\n",
    "100 & 100 \\\\\n",
    "100 & 200\n",
    "\\end{pmatrix}\n",
    "$$"
   ]
  },
  {
   "cell_type": "markdown",
   "metadata": {},
   "source": [
    "#### 3\n",
    "\n",
    "Если опечатка и подразумевалось: $y_i = \\theta_0 +\\theta_1 x_i +\\theta_2 w_i + \\theta_3 x_i w_i + u_i$, то жесткая мультиколлинеарность так как\n",
    "$w_i x_i = 2 x_i$.\n",
    "\n",
    "Если нет опечатки "
   ]
  },
  {
   "cell_type": "markdown",
   "metadata": {},
   "source": [
    "#### 2\n",
    "\n",
    "Если для $x_i$ используем в качестве инструментов:\n",
    "\n",
    "* только $z_i$: ничего не получится, т.к. $\\sum x_i z_i =0$\n",
    "* константу и $z_i$: не можем посчитать?\n",
    "* константу, $z_i$ и $w_i$\n",
    "\n",
    "Для случая, когда число инструментальных равно числу переменных\n",
    "$$\n",
    "\\hat\\beta_{IV} = (Z'X)^{-1}Z'y\n",
    "$$\n",
    "\n",
    "\n",
    "\n"
   ]
  },
  {
   "cell_type": "markdown",
   "metadata": {},
   "source": [
    "Доказательство формулы:\n",
    "$$\n",
    "\\hat X = Z(Z'Z)^{-1}Z'X\n",
    "$$\n",
    "и\n",
    "$$\n",
    "H_Z=Z(Z'Z)^{-1}Z'\n",
    "$$\n",
    "$$\n",
    "\\hat\\beta_{IV}=(\\hat X'\\hat X)^{-1}\\hat X'y=(X'H_ZX)^{-1}X'\n",
    "$$"
   ]
  },
  {
   "cell_type": "markdown",
   "metadata": {},
   "source": [
    "Пусть $H_Z X=ZA$, тогда\n",
    "\n",
    "$$\n",
    "\\hat\\beta_{IV}=(X'H_Z X)^{-1}(H_Z X)'y=((ZA)'X)^{-1}(ZA)'y=(Z'X)^{-1}Z'y\n",
    "$$"
   ]
  },
  {
   "cell_type": "markdown",
   "metadata": {},
   "source": [
    "$$\n",
    "A = \\begin{pmatrix}\n",
    "1 & 0 & a_{13} \\\\\n",
    "0 & 1 & a_{23} \\\\\n",
    "0 & 0 & a_{33} \n",
    "\\end{pmatrix}\n",
    "$$\n"
   ]
  },
  {
   "cell_type": "code",
   "execution_count": null,
   "metadata": {
    "collapsed": true
   },
   "outputs": [],
   "source": []
  }
 ],
 "metadata": {
  "kernelspec": {
   "display_name": "R",
   "language": "R",
   "name": "ir"
  },
  "language_info": {
   "codemirror_mode": "r",
   "file_extension": ".r",
   "mimetype": "text/x-r-source",
   "name": "R",
   "pygments_lexer": "r",
   "version": "3.2.2"
  }
 },
 "nbformat": 4,
 "nbformat_minor": 0
}
